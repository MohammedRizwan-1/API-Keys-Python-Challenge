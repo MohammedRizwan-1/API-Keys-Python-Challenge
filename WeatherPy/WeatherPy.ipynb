{
 "cells": [
  {
   "cell_type": "markdown",
   "metadata": {},
   "source": [
    "# WeatherPy\n",
    "\n",
    "---\n",
    "\n",
    "#### Dependancies"
   ]
  },
  {
   "cell_type": "code",
   "execution_count": 80,
   "metadata": {
    "scrolled": true
   },
   "outputs": [],
   "source": [
    "# Dependencies and Setup\n",
    "import matplotlib.pyplot as plt\n",
    "import pandas as pd\n",
    "import numpy as np\n",
    "import requests\n",
    "import time\n",
    "from scipy.stats import linregress\n",
    "from scipy.stats import pearsonr\n",
    "# Impor the OpenWeatherMap API key\n",
    "from api_keys import weather_api_key\n",
    "\n",
    "# Import citipy to determine the cities based on latitude and longitude\n",
    "from citipy import citipy\n"
   ]
  },
  {
   "cell_type": "markdown",
   "metadata": {},
   "source": [
    "#### Generate the Cities List by Using the `citipy` Library"
   ]
  },
  {
   "cell_type": "code",
   "execution_count": 49,
   "metadata": {},
   "outputs": [
    {
     "name": "stdout",
     "output_type": "stream",
     "text": [
      "Number of cities in the list: 619\n"
     ]
    }
   ],
   "source": [
    "# Empty list for holding the latitude and longitude combinations\n",
    "lat_lngs = []\n",
    "cities = []\n",
    "# Range of latitudes and longitudes\n",
    "lat_range = (-90, 90)\n",
    "lng_range = (-180, 180)\n",
    "# Create a set of random lat and lng combinations\n",
    "lats = np.random.uniform(lat_range[0], lat_range[1], size=1500)\n",
    "lngs = np.random.uniform(lng_range[0], lng_range[1], size=1500)\n",
    "lat_lngs = zip(lats, lngs)\n",
    "\n",
    "# Identify nearest city for each lat, lng combination\n",
    "for lat_lng in lat_lngs:\n",
    "    city = citipy.nearest_city(lat_lng[0], lat_lng[1]).city_name\n",
    "    \n",
    "    # If the city is unique, then add it to a our cities list\n",
    "    if city not in cities:\n",
    "        cities.append(city)\n",
    "\n",
    "# Print the city count to confirm sufficient count\n",
    "print(f\"Number of cities in the list: {len(cities)}\")"
   ]
  },
  {
   "cell_type": "markdown",
   "metadata": {},
   "source": [
    "---"
   ]
  },
  {
   "cell_type": "markdown",
   "metadata": {},
   "source": [
    "### Perform API Calls\n",
    "\n",
    "* Perform a weather check on each city using a series of successive API calls.\n",
    "* Include a print log of each city as it'sbeing processed (with the city number and city name)."
   ]
  },
  {
   "cell_type": "code",
   "execution_count": 50,
   "metadata": {},
   "outputs": [
    {
     "name": "stdout",
     "output_type": "stream",
     "text": [
      "Beginning Data Retrieval     \n",
      "-----------------------------\n",
      "City not found. Skipping...\n",
      "Processing Record 1 of Set 2 | Mataura\n",
      "Processing Record 2 of Set 2 | Isangel\n",
      "Processing Record 3 of Set 2 | Punta Arenas\n",
      "Processing Record 4 of Set 2 | Puerto Ayora\n",
      "Processing Record 5 of Set 2 | Batemans Bay\n",
      "Processing Record 6 of Set 2 | Cidreira\n",
      "Processing Record 7 of Set 2 | Ushuaia\n",
      "Processing Record 8 of Set 2 | New Norfolk\n",
      "Processing Record 9 of Set 2 | Aleppo Governorate\n",
      "Processing Record 10 of Set 2 | Bluff\n",
      "Processing Record 11 of Set 2 | Butaritari\n",
      "Processing Record 12 of Set 2 | Yumen\n",
      "Processing Record 13 of Set 2 | Broome\n",
      "City not found. Skipping...\n",
      "Processing Record 1 of Set 3 | Hobyo\n",
      "Processing Record 2 of Set 3 | Ukiah\n",
      "Processing Record 3 of Set 3 | Vaini\n",
      "Processing Record 4 of Set 3 | Wanxian\n",
      "Processing Record 5 of Set 3 | Arraial do Cabo\n",
      "Processing Record 6 of Set 3 | Yeppoon\n",
      "City not found. Skipping...\n",
      "City not found. Skipping...\n",
      "Processing Record 1 of Set 5 | Ilulissat\n",
      "City not found. Skipping...\n",
      "Processing Record 1 of Set 6 | Zhob\n",
      "Processing Record 2 of Set 6 | Laguna\n",
      "Processing Record 3 of Set 6 | Rikitea\n",
      "Processing Record 4 of Set 6 | Moerai\n",
      "Processing Record 5 of Set 6 | Aswān\n",
      "Processing Record 6 of Set 6 | Saskylakh\n",
      "Processing Record 7 of Set 6 | Esperance\n",
      "Processing Record 8 of Set 6 | Berdigestyakh\n",
      "Processing Record 9 of Set 6 | Vila Velha\n",
      "Processing Record 10 of Set 6 | Olafsvik\n",
      "Processing Record 11 of Set 6 | Albany\n",
      "Processing Record 12 of Set 6 | Avarua\n",
      "Processing Record 13 of Set 6 | Cardston\n",
      "Processing Record 14 of Set 6 | George Town\n",
      "Processing Record 15 of Set 6 | Kahului\n",
      "Processing Record 16 of Set 6 | Inhambane\n",
      "Processing Record 17 of Set 6 | Adeje\n",
      "Processing Record 18 of Set 6 | Monroe\n",
      "Processing Record 19 of Set 6 | Ribeira Grande\n",
      "Processing Record 20 of Set 6 | Mahébourg\n",
      "Processing Record 21 of Set 6 | Hermanus\n",
      "Processing Record 22 of Set 6 | Vao\n",
      "Processing Record 23 of Set 6 | Taoudenni\n",
      "Processing Record 24 of Set 6 | Diego de Almagro\n",
      "Processing Record 25 of Set 6 | Kapaa\n",
      "Processing Record 26 of Set 6 | Torbay\n",
      "Processing Record 27 of Set 6 | Clyde River\n",
      "Processing Record 28 of Set 6 | Axum\n",
      "Processing Record 29 of Set 6 | Yellowknife\n",
      "Processing Record 30 of Set 6 | Makakilo City\n",
      "Processing Record 31 of Set 6 | Port-Gentil\n",
      "Processing Record 32 of Set 6 | Chokurdakh\n",
      "Processing Record 33 of Set 6 | Sijunjung\n",
      "Processing Record 34 of Set 6 | Santa Cruz de la Sierra\n",
      "Processing Record 35 of Set 6 | Faanui\n",
      "Processing Record 36 of Set 6 | Port Angeles\n",
      "Processing Record 37 of Set 6 | Provideniya\n",
      "Processing Record 38 of Set 6 | Busselton\n",
      "Processing Record 39 of Set 6 | Saint George\n",
      "Processing Record 40 of Set 6 | Agüimes\n",
      "Processing Record 41 of Set 6 | Castro\n",
      "City not found. Skipping...\n",
      "Processing Record 1 of Set 7 | Khatanga\n",
      "City not found. Skipping...\n",
      "Processing Record 1 of Set 8 | Ribeira Brava\n",
      "Processing Record 2 of Set 8 | Upernavik\n",
      "Processing Record 3 of Set 8 | Am Timan\n",
      "Processing Record 4 of Set 8 | Wattegama\n",
      "Processing Record 5 of Set 8 | Ponta do Sol\n",
      "Processing Record 6 of Set 8 | Carnarvon\n",
      "Processing Record 7 of Set 8 | Hobart\n",
      "City not found. Skipping...\n",
      "Processing Record 1 of Set 9 | Comodoro Rivadavia\n",
      "Processing Record 2 of Set 9 | Flinders\n",
      "Processing Record 3 of Set 9 | Yangi Marg`ilon\n",
      "Processing Record 4 of Set 9 | Thompson\n",
      "Processing Record 5 of Set 9 | Alausí\n",
      "Processing Record 6 of Set 9 | Khuzdar\n",
      "City not found. Skipping...\n",
      "Processing Record 1 of Set 10 | Hamilton\n",
      "Processing Record 2 of Set 10 | Longyearbyen\n",
      "Processing Record 3 of Set 10 | East London\n",
      "Processing Record 4 of Set 10 | Pevek\n",
      "Processing Record 5 of Set 10 | Atbasar\n",
      "Processing Record 6 of Set 10 | Hilo\n",
      "Processing Record 7 of Set 10 | Jamestown\n",
      "Processing Record 8 of Set 10 | Toora-Khem\n",
      "Processing Record 9 of Set 10 | Matara\n",
      "Processing Record 10 of Set 10 | Villa Carlos Paz\n",
      "Processing Record 11 of Set 10 | Tasiilaq\n",
      "Processing Record 12 of Set 10 | Mwene-Ditu\n",
      "Processing Record 13 of Set 10 | Dhārchula\n",
      "Processing Record 14 of Set 10 | Dunedin\n",
      "Processing Record 15 of Set 10 | Caravelas\n",
      "Processing Record 16 of Set 10 | Cabo San Lucas\n",
      "City not found. Skipping...\n",
      "Processing Record 1 of Set 11 | Hasaki\n",
      "Processing Record 2 of Set 11 | Lebu\n",
      "Processing Record 3 of Set 11 | Pathein\n",
      "Processing Record 4 of Set 11 | Port Alfred\n",
      "Processing Record 5 of Set 11 | Mweka\n",
      "Processing Record 6 of Set 11 | Harper\n",
      "Processing Record 7 of Set 11 | Fortuna\n",
      "Processing Record 8 of Set 11 | Hithadhoo\n",
      "Processing Record 9 of Set 11 | Sakakah\n",
      "City not found. Skipping...\n",
      "Processing Record 1 of Set 12 | Airai\n",
      "Processing Record 2 of Set 12 | Anchorage\n",
      "Processing Record 3 of Set 12 | Losinyy\n",
      "Processing Record 4 of Set 12 | Cobija\n",
      "Processing Record 5 of Set 12 | Nouadhibou\n",
      "Processing Record 6 of Set 12 | Taunggyi\n",
      "City not found. Skipping...\n",
      "Processing Record 1 of Set 13 | Fountain\n",
      "Processing Record 2 of Set 13 | Río Cuarto\n",
      "Processing Record 3 of Set 13 | Kaitangata\n",
      "Processing Record 4 of Set 13 | Cape Town\n",
      "Processing Record 5 of Set 13 | Lamesa\n",
      "Processing Record 6 of Set 13 | Wenling\n",
      "Processing Record 7 of Set 13 | Klaksvík\n",
      "Processing Record 8 of Set 13 | Pahrump\n",
      "Processing Record 9 of Set 13 | Saint-Augustin\n",
      "Processing Record 10 of Set 13 | Rūdbār\n",
      "Processing Record 11 of Set 13 | Norman Wells\n",
      "Processing Record 12 of Set 13 | Blahodatne\n",
      "Processing Record 13 of Set 13 | Souillac\n",
      "City not found. Skipping...\n",
      "Processing Record 1 of Set 14 | Qaanaaq\n",
      "Processing Record 2 of Set 14 | Acajutla\n",
      "Processing Record 3 of Set 14 | Leningradskiy\n",
      "Processing Record 4 of Set 14 | Mar del Plata\n",
      "Processing Record 5 of Set 14 | Livingston\n",
      "Processing Record 6 of Set 14 | Penzance\n",
      "City not found. Skipping...\n",
      "Processing Record 1 of Set 15 | Pangnirtung\n",
      "Processing Record 2 of Set 15 | Ishigaki\n",
      "Processing Record 3 of Set 15 | Gōtsuchō\n",
      "Processing Record 4 of Set 15 | Heilbronn\n",
      "Processing Record 5 of Set 15 | Atuona\n",
      "Processing Record 6 of Set 15 | Geraldton\n",
      "Processing Record 7 of Set 15 | Miandrivazo\n",
      "Processing Record 8 of Set 15 | Port Hardy\n",
      "City not found. Skipping...\n",
      "Processing Record 1 of Set 16 | Darhan\n",
      "Processing Record 2 of Set 16 | Bethel\n",
      "Processing Record 3 of Set 16 | Alice Springs\n",
      "Processing Record 4 of Set 16 | Asău\n",
      "Processing Record 5 of Set 16 | Umluj\n",
      "Processing Record 6 of Set 16 | Poum\n",
      "Processing Record 7 of Set 16 | Glossop\n",
      "Processing Record 8 of Set 16 | Bredasdorp\n",
      "City not found. Skipping...\n",
      "Processing Record 1 of Set 17 | Norden\n",
      "Processing Record 2 of Set 17 | Haines Junction\n",
      "Processing Record 3 of Set 17 | Gushikawa\n",
      "City not found. Skipping...\n",
      "Processing Record 1 of Set 18 | Porto-Novo\n",
      "Processing Record 2 of Set 18 | Pacific Grove\n",
      "Processing Record 3 of Set 18 | Uvira\n",
      "Processing Record 4 of Set 18 | Antalaha\n",
      "Processing Record 5 of Set 18 | Sitka\n",
      "Processing Record 6 of Set 18 | Ambulu\n",
      "City not found. Skipping...\n",
      "Processing Record 1 of Set 19 | Voinka\n",
      "Processing Record 2 of Set 19 | Bourail\n",
      "Processing Record 3 of Set 19 | Tura\n",
      "Processing Record 4 of Set 19 | Abapó\n",
      "Processing Record 5 of Set 19 | Palu\n",
      "Processing Record 6 of Set 19 | Lata\n",
      "Processing Record 7 of Set 19 | Bānka\n",
      "Processing Record 8 of Set 19 | Acaraú\n",
      "Processing Record 9 of Set 19 | Puerto Ayacucho\n",
      "Processing Record 10 of Set 19 | Clarence Town\n",
      "Processing Record 11 of Set 19 | Laas\n",
      "Processing Record 12 of Set 19 | Phang Nga\n",
      "Processing Record 13 of Set 19 | Tromsø\n",
      "Processing Record 14 of Set 19 | Sémbé\n",
      "City not found. Skipping...\n",
      "Processing Record 1 of Set 20 | Pital\n",
      "Processing Record 2 of Set 20 | Balaipungut\n",
      "Processing Record 3 of Set 20 | Mackay\n",
      "Processing Record 4 of Set 20 | Barrow\n",
      "Processing Record 5 of Set 20 | Honningsvåg\n",
      "Processing Record 6 of Set 20 | Saint-Philippe\n",
      "Processing Record 7 of Set 20 | Hong Kong\n",
      "Processing Record 8 of Set 20 | Briançon\n",
      "Processing Record 9 of Set 20 | Winona\n",
      "City not found. Skipping...\n",
      "Processing Record 1 of Set 21 | Aksu\n",
      "Processing Record 2 of Set 21 | Bolobo\n",
      "Processing Record 3 of Set 21 | Srednekolymsk\n",
      "Processing Record 4 of Set 21 | Coyhaique\n",
      "Processing Record 5 of Set 21 | Nālūt\n",
      "Processing Record 6 of Set 21 | Berlevåg\n",
      "Processing Record 7 of Set 21 | Vila\n",
      "Processing Record 8 of Set 21 | Tifton\n",
      "Processing Record 9 of Set 21 | Te Anau\n",
      "Processing Record 10 of Set 21 | La Ronge\n",
      "Processing Record 11 of Set 21 | Touros\n",
      "Processing Record 12 of Set 21 | Albacete\n",
      "Processing Record 13 of Set 21 | Mukhen\n",
      "Processing Record 14 of Set 21 | Nanortalik\n",
      "Processing Record 15 of Set 21 | Kousséri\n",
      "Processing Record 16 of Set 21 | Itoman\n",
      "Processing Record 17 of Set 21 | Daru\n",
      "Processing Record 18 of Set 21 | Richards Bay\n",
      "Processing Record 19 of Set 21 | Emba\n",
      "Processing Record 20 of Set 21 | Charters Towers\n",
      "Processing Record 21 of Set 21 | Santa Maria\n",
      "City not found. Skipping...\n",
      "City not found. Skipping...\n",
      "Processing Record 1 of Set 23 | Nikolskoye\n",
      "Processing Record 2 of Set 23 | Nebbi\n",
      "Processing Record 3 of Set 23 | College\n",
      "Processing Record 4 of Set 23 | Mossamedes\n",
      "Processing Record 5 of Set 23 | Saldanha\n",
      "Processing Record 6 of Set 23 | Oistins\n",
      "Processing Record 7 of Set 23 | Yamada\n",
      "Processing Record 8 of Set 23 | Bengkulu\n",
      "Processing Record 9 of Set 23 | Deputatsky\n",
      "Processing Record 10 of Set 23 | Saint Paul Harbor\n",
      "Processing Record 11 of Set 23 | Hukuntsi\n",
      "Processing Record 12 of Set 23 | San Quintín\n",
      "Processing Record 13 of Set 23 | Zherdevka\n",
      "Processing Record 14 of Set 23 | Setermoen\n",
      "Processing Record 15 of Set 23 | Aripuanã\n",
      "Processing Record 16 of Set 23 | Kurchum\n",
      "Processing Record 17 of Set 23 | Shangzhi\n",
      "Processing Record 18 of Set 23 | Chui\n",
      "Processing Record 19 of Set 23 | Sayyan\n",
      "Processing Record 20 of Set 23 | Guarujá\n",
      "City not found. Skipping...\n",
      "Processing Record 1 of Set 24 | Acarí\n",
      "Processing Record 2 of Set 24 | Lüderitz\n",
      "Processing Record 3 of Set 24 | Lompoc\n",
      "Processing Record 4 of Set 24 | Kings Mountain\n",
      "Processing Record 5 of Set 24 | Lagoa\n",
      "Processing Record 6 of Set 24 | Smidovich\n",
      "City not found. Skipping...\n",
      "Processing Record 1 of Set 25 | Ancud\n",
      "Processing Record 2 of Set 25 | Huayang\n",
      "Processing Record 3 of Set 25 | Pamekasan\n",
      "Processing Record 4 of Set 25 | Hervey Bay\n",
      "Processing Record 5 of Set 25 | Trujillo\n",
      "Processing Record 6 of Set 25 | Kletskaya\n",
      "Processing Record 7 of Set 25 | Broken Hill\n",
      "Processing Record 8 of Set 25 | Lavrentiya\n",
      "Processing Record 9 of Set 25 | Camocim\n",
      "Processing Record 10 of Set 25 | Dikson\n",
      "Processing Record 11 of Set 25 | Mount Gambier\n",
      "Processing Record 12 of Set 25 | Mokrousovo\n",
      "Processing Record 13 of Set 25 | Normandin\n",
      "Processing Record 14 of Set 25 | Sistranda\n",
      "Processing Record 15 of Set 25 | Razdolinsk\n",
      "Processing Record 16 of Set 25 | Rusape\n",
      "Processing Record 17 of Set 25 | Emerald\n",
      "Processing Record 18 of Set 25 | La Providencia\n",
      "Processing Record 19 of Set 25 | Kavaratti\n",
      "Processing Record 20 of Set 25 | Eyemouth\n",
      "Processing Record 21 of Set 25 | Tuktoyaktuk\n",
      "Processing Record 22 of Set 25 | Vlorë\n",
      "City not found. Skipping...\n",
      "Processing Record 1 of Set 26 | Benguela\n",
      "City not found. Skipping...\n",
      "Processing Record 1 of Set 27 | Tezu\n",
      "Processing Record 2 of Set 27 | Zhanakorgan\n",
      "Processing Record 3 of Set 27 | Mil'kovo\n",
      "Processing Record 4 of Set 27 | Cocachacra\n",
      "Processing Record 5 of Set 27 | Yeniseysk\n",
      "Processing Record 6 of Set 27 | Bucerías\n",
      "Processing Record 7 of Set 27 | Prescott\n",
      "Processing Record 8 of Set 27 | Bambous Virieux\n",
      "Processing Record 9 of Set 27 | Brownsville\n",
      "Processing Record 10 of Set 27 | Guerrero Negro\n",
      "Processing Record 11 of Set 27 | Korla\n",
      "Processing Record 12 of Set 27 | Talaya\n",
      "Processing Record 13 of Set 27 | Sokolac\n",
      "City not found. Skipping...\n",
      "Processing Record 1 of Set 28 | Ocean City\n",
      "Processing Record 2 of Set 28 | Yerbogachën\n",
      "Processing Record 3 of Set 28 | Dvinskoy Bereznik\n",
      "Processing Record 4 of Set 28 | Luau\n",
      "Processing Record 5 of Set 28 | Katobu\n",
      "Processing Record 6 of Set 28 | Ucluelet\n",
      "Processing Record 7 of Set 28 | Soyo\n",
      "Processing Record 8 of Set 28 | Zyryanka\n",
      "Processing Record 9 of Set 28 | Tutin\n",
      "Processing Record 10 of Set 28 | Vardø\n",
      "Processing Record 11 of Set 28 | Suclayin\n",
      "City not found. Skipping...\n",
      "Processing Record 1 of Set 29 | Mitú\n",
      "Processing Record 2 of Set 29 | Jāwā\n",
      "Processing Record 3 of Set 29 | Canutama\n",
      "Processing Record 4 of Set 29 | Mehrān\n",
      "Processing Record 5 of Set 29 | Yerköy\n",
      "Processing Record 6 of Set 29 | Gwadar\n",
      "Processing Record 7 of Set 29 | Limenaria\n",
      "Processing Record 8 of Set 29 | Dubbo\n",
      "Processing Record 9 of Set 29 | Tiksi\n",
      "Processing Record 10 of Set 29 | Mimoso do Sul\n",
      "Processing Record 11 of Set 29 | Valley\n",
      "Processing Record 12 of Set 29 | Bairiki Village\n",
      "Processing Record 13 of Set 29 | Tuatapere\n",
      "Processing Record 14 of Set 29 | Marsá Maţrūḩ\n",
      "Processing Record 15 of Set 29 | Vanimo\n",
      "Processing Record 16 of Set 29 | Redenção\n",
      "City not found. Skipping...\n",
      "Processing Record 1 of Set 30 | Tyukhtet\n",
      "Processing Record 2 of Set 30 | Kubrat\n",
      "Processing Record 3 of Set 30 | Vaitape\n",
      "Processing Record 4 of Set 30 | Muros\n",
      "Processing Record 5 of Set 30 | Bambanglipuro\n",
      "Processing Record 6 of Set 30 | Marfino\n",
      "Processing Record 7 of Set 30 | Los Llanos de Aridane\n",
      "Processing Record 8 of Set 30 | Chastyye\n",
      "Processing Record 9 of Set 30 | Shamkhal\n",
      "Processing Record 10 of Set 30 | Padang\n",
      "Processing Record 11 of Set 30 | Port Shepstone\n",
      "City not found. Skipping...\n",
      "Processing Record 1 of Set 31 | Maków Mazowiecki\n",
      "Processing Record 2 of Set 31 | Dārāb\n",
      "Processing Record 3 of Set 31 | Amapá\n",
      "Processing Record 4 of Set 31 | Andenes\n",
      "Processing Record 5 of Set 31 | Yulara\n",
      "City not found. Skipping...\n",
      "Processing Record 1 of Set 32 | Matagami\n",
      "Processing Record 2 of Set 32 | Charter Township of Clinton\n",
      "Processing Record 3 of Set 32 | Safi\n",
      "Processing Record 4 of Set 32 | Fes\n",
      "City not found. Skipping...\n",
      "Processing Record 1 of Set 33 | Cherskiy\n",
      "Processing Record 2 of Set 33 | Paamiut\n",
      "Processing Record 3 of Set 33 | Mtambile\n",
      "City not found. Skipping...\n",
      "Processing Record 1 of Set 34 | Nome\n",
      "Processing Record 2 of Set 34 | Adrar\n",
      "City not found. Skipping...\n",
      "Processing Record 1 of Set 35 | Port Macquarie\n",
      "Processing Record 2 of Set 35 | Bathsheba\n",
      "Processing Record 3 of Set 35 | Beyneu\n",
      "City not found. Skipping...\n",
      "Processing Record 1 of Set 36 | Gornyak\n",
      "Processing Record 2 of Set 36 | Tiznit Province\n",
      "Processing Record 3 of Set 36 | Parksville\n",
      "Processing Record 4 of Set 36 | Hailar\n",
      "Processing Record 5 of Set 36 | Solok\n",
      "Processing Record 6 of Set 36 | Shimoda\n",
      "Processing Record 7 of Set 36 | Kropotkin\n",
      "City not found. Skipping...\n",
      "Processing Record 1 of Set 37 | Kyra\n",
      "Processing Record 2 of Set 37 | Bandarbeyla\n",
      "Processing Record 3 of Set 37 | Namuac\n",
      "Processing Record 4 of Set 37 | Sungai Penuh\n",
      "Processing Record 5 of Set 37 | Talnakh\n",
      "Processing Record 6 of Set 37 | Caborca\n",
      "Processing Record 7 of Set 37 | Carranglan\n",
      "Processing Record 8 of Set 37 | Fort Nelson\n",
      "Processing Record 9 of Set 37 | Naze\n",
      "City not found. Skipping...\n",
      "Processing Record 1 of Set 38 | Poronaysk\n",
      "Processing Record 2 of Set 38 | Kruisfontein\n",
      "Processing Record 3 of Set 38 | Sandwick\n",
      "City not found. Skipping...\n",
      "Processing Record 1 of Set 39 | Russell\n",
      "Processing Record 2 of Set 39 | Port Augusta\n",
      "Processing Record 3 of Set 39 | Arrondissement du Havre\n",
      "Processing Record 4 of Set 39 | Copiapó\n",
      "Processing Record 5 of Set 39 | Araioses\n",
      "Processing Record 6 of Set 39 | Lorengau\n",
      "Processing Record 7 of Set 39 | Verkhnyaya Inta\n",
      "Processing Record 8 of Set 39 | Mandalgovi\n",
      "Processing Record 9 of Set 39 | Diré\n",
      "Processing Record 10 of Set 39 | Melfi\n",
      "City not found. Skipping...\n",
      "Processing Record 1 of Set 40 | Hermiston\n",
      "Processing Record 2 of Set 40 | Aklavik\n",
      "Processing Record 3 of Set 40 | Karratha\n",
      "City not found. Skipping...\n",
      "Processing Record 1 of Set 41 | Rio Grande\n",
      "Processing Record 2 of Set 41 | Kumul\n",
      "Processing Record 3 of Set 41 | Chabahar\n",
      "Processing Record 4 of Set 41 | Vilyuysk\n",
      "Processing Record 5 of Set 41 | Jalu\n",
      "Processing Record 6 of Set 41 | Lázaro Cárdenas\n",
      "Processing Record 7 of Set 41 | Shache\n",
      "Processing Record 8 of Set 41 | Kizilskoye\n",
      "Processing Record 9 of Set 41 | Pozo Colorado\n",
      "Processing Record 10 of Set 41 | Khani\n",
      "Processing Record 11 of Set 41 | Mizdah\n",
      "Processing Record 12 of Set 41 | Cassino\n",
      "Processing Record 13 of Set 41 | Salalah\n",
      "Processing Record 14 of Set 41 | Barcelos\n",
      "Processing Record 15 of Set 41 | Tyul'gan\n",
      "Processing Record 16 of Set 41 | Morondava\n",
      "Processing Record 17 of Set 41 | Teahupoo\n",
      "Processing Record 18 of Set 41 | Portland\n",
      "Processing Record 19 of Set 41 | Coos Bay\n",
      "Processing Record 20 of Set 41 | Hualmay\n",
      "Processing Record 21 of Set 41 | Baykit\n",
      "Processing Record 22 of Set 41 | Marsh Harbour\n",
      "Processing Record 23 of Set 41 | Votkinsk\n",
      "Processing Record 24 of Set 41 | Sorong\n",
      "Processing Record 25 of Set 41 | Salinas\n",
      "Processing Record 26 of Set 41 | Brebu\n",
      "Processing Record 27 of Set 41 | Ivybridge\n",
      "Processing Record 28 of Set 41 | Khorinsk\n",
      "Processing Record 29 of Set 41 | Vanderhoof\n",
      "Processing Record 30 of Set 41 | Klichka\n",
      "Processing Record 31 of Set 41 | Ulladulla\n",
      "City not found. Skipping...\n",
      "Processing Record 1 of Set 42 | Bilibino\n",
      "Processing Record 2 of Set 42 | Palmerston\n",
      "Processing Record 3 of Set 42 | Henties Bay\n",
      "Processing Record 4 of Set 42 | Garoowe\n",
      "Processing Record 5 of Set 42 | Eyl\n",
      "Processing Record 6 of Set 42 | San Patricio\n",
      "City not found. Skipping...\n",
      "City not found. Skipping...\n",
      "City not found. Skipping...\n",
      "Processing Record 1 of Set 45 | Gravdal\n",
      "Processing Record 2 of Set 45 | Kampot\n",
      "Processing Record 3 of Set 45 | Severo-Kuril'sk\n",
      "Processing Record 4 of Set 45 | Golden\n",
      "Processing Record 5 of Set 45 | Constitución\n",
      "Processing Record 6 of Set 45 | Mountain Home\n",
      "Processing Record 7 of Set 45 | Ambilobe\n",
      "Processing Record 8 of Set 45 | Shebunino\n",
      "Processing Record 9 of Set 45 | Tanout\n",
      "Processing Record 10 of Set 45 | Namwala\n",
      "Processing Record 11 of Set 45 | Muktsar\n",
      "Processing Record 12 of Set 45 | Madimba\n",
      "Processing Record 13 of Set 45 | Bubaque\n",
      "Processing Record 14 of Set 45 | Nsanje\n",
      "Processing Record 15 of Set 45 | Osakarovka\n",
      "Processing Record 16 of Set 45 | Riosucio\n",
      "Processing Record 17 of Set 45 | Kangaatsiaq\n",
      "Processing Record 18 of Set 45 | Española\n",
      "Processing Record 19 of Set 45 | Abu Dhabi\n",
      "Processing Record 20 of Set 45 | Synya\n",
      "Processing Record 21 of Set 45 | Riberalta\n",
      "Processing Record 22 of Set 45 | Maragogi\n",
      "Processing Record 23 of Set 45 | Kavieng\n",
      "City not found. Skipping...\n",
      "Processing Record 1 of Set 46 | Mahajanga\n",
      "Processing Record 2 of Set 46 | Zavyalovo\n",
      "City not found. Skipping...\n",
      "Processing Record 1 of Set 47 | Rocha\n",
      "Processing Record 2 of Set 47 | Cody\n",
      "Processing Record 3 of Set 47 | Avera\n",
      "Processing Record 4 of Set 47 | Angarsk\n",
      "Processing Record 5 of Set 47 | Skagen\n",
      "City not found. Skipping...\n",
      "Processing Record 1 of Set 48 | Shelburne\n",
      "Processing Record 2 of Set 48 | Neiafu\n",
      "Processing Record 3 of Set 48 | Mashhad\n",
      "Processing Record 4 of Set 48 | Bestöbe\n",
      "Processing Record 5 of Set 48 | Burley\n",
      "Processing Record 6 of Set 48 | West Wendover\n",
      "Processing Record 7 of Set 48 | Ixtapa\n",
      "Processing Record 8 of Set 48 | Sangar\n",
      "Processing Record 9 of Set 48 | Akureyri\n",
      "Processing Record 10 of Set 48 | Nishihara\n",
      "Processing Record 11 of Set 48 | Slavyanka\n",
      "Processing Record 12 of Set 48 | Aksarka\n",
      "Processing Record 13 of Set 48 | Phonhong\n",
      "Processing Record 14 of Set 48 | Jingdezhen\n",
      "Processing Record 15 of Set 48 | Petropavlovsk-Kamchatskiy\n",
      "Processing Record 16 of Set 48 | Ape\n",
      "Processing Record 17 of Set 48 | Yangambi\n",
      "Processing Record 18 of Set 48 | Yar-Sale\n",
      "Processing Record 19 of Set 48 | Vinh\n",
      "Processing Record 20 of Set 48 | Kloulklubed\n",
      "Processing Record 21 of Set 48 | Erenhot\n",
      "Processing Record 22 of Set 48 | Vila Franca do Campo\n",
      "Processing Record 23 of Set 48 | Bagenalstown\n",
      "Processing Record 24 of Set 48 | Solnechnyy\n",
      "Processing Record 25 of Set 48 | Veranópolis\n",
      "Processing Record 26 of Set 48 | Abaeté\n",
      "Processing Record 27 of Set 48 | Port Hedland\n",
      "Processing Record 28 of Set 48 | Kashima\n",
      "Processing Record 29 of Set 48 | Hambantota\n",
      "Processing Record 30 of Set 48 | Taltal\n",
      "Processing Record 31 of Set 48 | Iqaluit\n",
      "Processing Record 32 of Set 48 | Inírida\n",
      "Processing Record 33 of Set 48 | Omboué\n",
      "City not found. Skipping...\n",
      "Processing Record 1 of Set 49 | Nampula\n",
      "Processing Record 2 of Set 49 | Sola\n",
      "Processing Record 3 of Set 49 | Alofi\n",
      "City not found. Skipping...\n",
      "Processing Record 1 of Set 50 | Port Elizabeth\n",
      "Processing Record 2 of Set 50 | Horsham\n",
      "Processing Record 3 of Set 50 | Riyadh\n",
      "Processing Record 4 of Set 50 | Balkhash\n",
      "Processing Record 5 of Set 50 | Saýat\n",
      "Processing Record 6 of Set 50 | Ampanihy\n",
      "Processing Record 7 of Set 50 | Humboldt\n",
      "Processing Record 8 of Set 50 | Mehamn\n",
      "Processing Record 9 of Set 50 | Okhotsk\n",
      "Processing Record 10 of Set 50 | Karpogory\n",
      "Processing Record 11 of Set 50 | San Borja\n",
      "Processing Record 12 of Set 50 | Manzhouli\n",
      "Processing Record 13 of Set 50 | Miramar\n",
      "Processing Record 14 of Set 50 | Mareeba\n",
      "Processing Record 15 of Set 50 | Beringovskiy\n",
      "City not found. Skipping...\n",
      "Processing Record 1 of Set 51 | Basoko\n",
      "Processing Record 2 of Set 51 | Maykor\n",
      "Processing Record 3 of Set 51 | Blackwater\n",
      "Processing Record 4 of Set 51 | Acapulco de Juárez\n",
      "Processing Record 5 of Set 51 | Fandriana\n",
      "City not found. Skipping...\n",
      "Processing Record 1 of Set 52 | Aketi\n",
      "Processing Record 2 of Set 52 | Ibrā’\n",
      "Processing Record 3 of Set 52 | Onalaska\n",
      "Processing Record 4 of Set 52 | Urengoy\n",
      "Processing Record 5 of Set 52 | Kumluca\n",
      "Processing Record 6 of Set 52 | Araouane\n",
      "Processing Record 7 of Set 52 | Shakawe\n",
      "Processing Record 8 of Set 52 | Codrington\n",
      "Processing Record 9 of Set 52 | Oyama\n",
      "Processing Record 10 of Set 52 | Garden City\n",
      "Processing Record 11 of Set 52 | Kutum\n",
      "Processing Record 12 of Set 52 | Launceston\n",
      "Processing Record 13 of Set 52 | Leh\n",
      "Processing Record 14 of Set 52 | Saint-Pierre\n",
      "Processing Record 15 of Set 52 | Humberto de Campos\n",
      "Processing Record 16 of Set 52 | Faya\n",
      "Processing Record 17 of Set 52 | Port Lincoln\n",
      "Processing Record 18 of Set 52 | Evensk\n",
      "Processing Record 19 of Set 52 | Houma\n",
      "Processing Record 20 of Set 52 | Grindavik\n",
      "Processing Record 21 of Set 52 | Narsaq\n",
      "Processing Record 22 of Set 52 | Dongsheng\n",
      "Processing Record 23 of Set 52 | Linxia Chengguanzhen\n",
      "Processing Record 24 of Set 52 | Nemuro\n",
      "Processing Record 25 of Set 52 | São José da Coroa Grande\n",
      "Processing Record 26 of Set 52 | Seydi\n",
      "Processing Record 27 of Set 52 | Blackfoot\n",
      "Processing Record 28 of Set 52 | Progreso\n",
      "Processing Record 29 of Set 52 | Tādepallegūdem\n",
      "Processing Record 30 of Set 52 | Novyy Nekouz\n",
      "Processing Record 31 of Set 52 | Manjacaze\n",
      "Processing Record 32 of Set 52 | Konstantinovka\n",
      "Processing Record 33 of Set 52 | Suoyarvi\n",
      "Processing Record 34 of Set 52 | San Cristobal\n",
      "Processing Record 35 of Set 52 | Cantaura\n",
      "Processing Record 36 of Set 52 | Raja\n",
      "Processing Record 37 of Set 52 | Batouri\n",
      "Processing Record 38 of Set 52 | Kapuskasing\n",
      "Processing Record 39 of Set 52 | Chimoio\n",
      "Processing Record 40 of Set 52 | Mugur-Aksy\n",
      "Processing Record 41 of Set 52 | Ponta Delgada\n",
      "Processing Record 42 of Set 52 | ‘Ewa Beach\n",
      "Processing Record 43 of Set 52 | Lucea\n",
      "Processing Record 44 of Set 52 | Córdoba\n",
      "Processing Record 45 of Set 52 | Sawākin\n",
      "Processing Record 46 of Set 52 | Arys\n",
      "Processing Record 47 of Set 52 | Anadyr\n",
      "Processing Record 48 of Set 52 | Armidale\n",
      "Processing Record 49 of Set 52 | Les Cayes\n",
      "Processing Record 50 of Set 52 | Esim\n",
      "Processing Record 51 of Set 52 | Buala\n",
      "Processing Record 52 of Set 52 | Anshun\n",
      "City not found. Skipping...\n",
      "Processing Record 1 of Set 53 | Tapes\n",
      "City not found. Skipping...\n",
      "Processing Record 1 of Set 54 | Cariamanga\n",
      "Processing Record 2 of Set 54 | Wake Forest\n",
      "Processing Record 3 of Set 54 | Panabá\n",
      "Processing Record 4 of Set 54 | Nueva Concepción\n",
      "Processing Record 5 of Set 54 | Koumac\n",
      "Processing Record 6 of Set 54 | Yuncheng\n",
      "Processing Record 7 of Set 54 | Alcântara\n",
      "City not found. Skipping...\n",
      "Processing Record 1 of Set 55 | Terney\n",
      "Processing Record 2 of Set 55 | Almeirim\n",
      "Processing Record 3 of Set 55 | Quatre Cocos\n",
      "Processing Record 4 of Set 55 | Lakes Entrance\n",
      "Processing Record 5 of Set 55 | Fare\n",
      "Processing Record 6 of Set 55 | Krasnosel'kup\n",
      "Processing Record 7 of Set 55 | Kysyl-Syr\n",
      "Processing Record 8 of Set 55 | Kuragino\n",
      "Processing Record 9 of Set 55 | Salisbury\n",
      "City not found. Skipping...\n",
      "Processing Record 1 of Set 56 | Aranos\n",
      "Processing Record 2 of Set 56 | Necochea\n",
      "Processing Record 3 of Set 56 | Garissa\n",
      "Processing Record 4 of Set 56 | Otacílio Costa\n",
      "Processing Record 5 of Set 56 | Turaif\n",
      "Processing Record 6 of Set 56 | Mokhsogollokh\n",
      "Processing Record 7 of Set 56 | Province of Trapani\n",
      "Processing Record 8 of Set 56 | Barabinsk\n",
      "Processing Record 9 of Set 56 | Pisco\n",
      "Processing Record 10 of Set 56 | Kostek\n",
      "Processing Record 11 of Set 56 | Zhoucheng\n",
      "Processing Record 12 of Set 56 | Husavik\n",
      "Processing Record 13 of Set 56 | Cockburn Town\n",
      "Processing Record 14 of Set 56 | Jiwani\n",
      "Processing Record 15 of Set 56 | Nacala\n",
      "Processing Record 16 of Set 56 | Bilma\n",
      "Processing Record 17 of Set 56 | Mazamari\n",
      "City not found. Skipping...\n",
      "Processing Record 1 of Set 57 | Ust-Tsilma\n",
      "Processing Record 2 of Set 57 | Sechura\n",
      "Processing Record 3 of Set 57 | São Filipe\n",
      "Processing Record 4 of Set 57 | Ürümqi\n",
      "Processing Record 5 of Set 57 | Buraidah\n",
      "Processing Record 6 of Set 57 | Mīnāb\n",
      "Processing Record 7 of Set 57 | Kielce\n",
      "Processing Record 8 of Set 57 | Amurzet\n",
      "City not found. Skipping...\n",
      "Processing Record 1 of Set 58 | Karema\n",
      "City not found. Skipping...\n",
      "-----------------------------\n",
      "Data Retrieval Complete      \n",
      "-----------------------------\n"
     ]
    }
   ],
   "source": [
    "\n",
    "# Define an empty list to hold response information\n",
    "city_data = []\n",
    "lat = []\n",
    "lng = []\n",
    "max_temp = []\n",
    "humidity = []\n",
    "cloudiness = []\n",
    "wind_speed = []\n",
    "country = []\n",
    "date = []\n",
    "# Print to logger\n",
    "print(\"Beginning Data Retrieval     \")\n",
    "print(\"-----------------------------\")\n",
    "\n",
    "# Create counters\n",
    "record_count = 1\n",
    "set_count = 1\n",
    "\n",
    "# Loop through all the cities in our list to fetch weather data\n",
    "for city in cities: \n",
    "    query_url = f\"https://api.openweathermap.org/data/2.5/weather?q={city}&appid={weather_api_key}&units=imperial\"\n",
    "\n",
    "    response = requests.get(query_url).json()\n",
    "\n",
    "     # Try to grab the city's information if available\n",
    "    try: \n",
    "        city_data.append(response['name'])\n",
    "        lat.append(response['coord']['lat'])\n",
    "        lng.append(response['coord']['lon'])\n",
    "        max_temp.append(response['main']['temp_max'])\n",
    "        humidity.append(response['main']['humidity'])\n",
    "        cloudiness.append(response['clouds']['all'])\n",
    "        wind_speed.append(response['wind']['speed'])\n",
    "        country.append(response['sys']['country'])\n",
    "        date.append(response['dt'])   \n",
    "    \n",
    "    # Log the url, record, and set numbers\n",
    "        print(f\"Processing Record {record_count} of Set {set_count} | {response['name']}\")\n",
    "    # Add 1 to the record count\n",
    "        record_count += 1\n",
    "\n",
    "    \n",
    "    except:\n",
    "        print(\"City not found. Skipping...\")\n",
    "        set_count += 1\n",
    "        record_count = 1\n",
    "        pass\n",
    "              \n",
    "# Indicate that Data Loading is complete \n",
    "print(\"-----------------------------\")\n",
    "print(\"Data Retrieval Complete      \")\n",
    "print(\"-----------------------------\")"
   ]
  },
  {
   "cell_type": "markdown",
   "metadata": {},
   "source": [
    "#### Convert Raw Data to DataFrame\n",
    "* Export the city data into a .csv.\n",
    "* Display the DataFrame"
   ]
  },
  {
   "cell_type": "code",
   "execution_count": 52,
   "metadata": {},
   "outputs": [
    {
     "data": {
      "text/html": [
       "<div>\n",
       "<style scoped>\n",
       "    .dataframe tbody tr th:only-of-type {\n",
       "        vertical-align: middle;\n",
       "    }\n",
       "\n",
       "    .dataframe tbody tr th {\n",
       "        vertical-align: top;\n",
       "    }\n",
       "\n",
       "    .dataframe thead th {\n",
       "        text-align: right;\n",
       "    }\n",
       "</style>\n",
       "<table border=\"1\" class=\"dataframe\">\n",
       "  <thead>\n",
       "    <tr style=\"text-align: right;\">\n",
       "      <th></th>\n",
       "      <th>City</th>\n",
       "      <th>Latitude</th>\n",
       "      <th>Longitude</th>\n",
       "      <th>Max Temperature (°C)</th>\n",
       "      <th>Humidity (%)</th>\n",
       "      <th>Cloudiness (%)</th>\n",
       "      <th>Wind Speed (MPH)</th>\n",
       "      <th>Country</th>\n",
       "      <th>Date</th>\n",
       "    </tr>\n",
       "  </thead>\n",
       "  <tbody>\n",
       "    <tr>\n",
       "      <th>0</th>\n",
       "      <td>Mataura</td>\n",
       "      <td>-46.1927</td>\n",
       "      <td>168.8643</td>\n",
       "      <td>59.49</td>\n",
       "      <td>76</td>\n",
       "      <td>100</td>\n",
       "      <td>5.93</td>\n",
       "      <td>NZ</td>\n",
       "      <td>1669755426</td>\n",
       "    </tr>\n",
       "    <tr>\n",
       "      <th>1</th>\n",
       "      <td>Isangel</td>\n",
       "      <td>-19.5500</td>\n",
       "      <td>169.2667</td>\n",
       "      <td>84.31</td>\n",
       "      <td>79</td>\n",
       "      <td>91</td>\n",
       "      <td>3.44</td>\n",
       "      <td>VU</td>\n",
       "      <td>1669755426</td>\n",
       "    </tr>\n",
       "    <tr>\n",
       "      <th>2</th>\n",
       "      <td>Punta Arenas</td>\n",
       "      <td>-53.1500</td>\n",
       "      <td>-70.9167</td>\n",
       "      <td>48.31</td>\n",
       "      <td>57</td>\n",
       "      <td>75</td>\n",
       "      <td>27.63</td>\n",
       "      <td>CL</td>\n",
       "      <td>1669755426</td>\n",
       "    </tr>\n",
       "    <tr>\n",
       "      <th>3</th>\n",
       "      <td>Puerto Ayora</td>\n",
       "      <td>-0.7393</td>\n",
       "      <td>-90.3518</td>\n",
       "      <td>78.76</td>\n",
       "      <td>86</td>\n",
       "      <td>58</td>\n",
       "      <td>5.99</td>\n",
       "      <td>EC</td>\n",
       "      <td>1669755426</td>\n",
       "    </tr>\n",
       "    <tr>\n",
       "      <th>4</th>\n",
       "      <td>Batemans Bay</td>\n",
       "      <td>-35.7167</td>\n",
       "      <td>150.1833</td>\n",
       "      <td>62.10</td>\n",
       "      <td>67</td>\n",
       "      <td>40</td>\n",
       "      <td>3.67</td>\n",
       "      <td>AU</td>\n",
       "      <td>1669755426</td>\n",
       "    </tr>\n",
       "  </tbody>\n",
       "</table>\n",
       "</div>"
      ],
      "text/plain": [
       "           City  Latitude  Longitude  Max Temperature (°C)  Humidity (%)  \\\n",
       "0       Mataura  -46.1927   168.8643                 59.49            76   \n",
       "1       Isangel  -19.5500   169.2667                 84.31            79   \n",
       "2  Punta Arenas  -53.1500   -70.9167                 48.31            57   \n",
       "3  Puerto Ayora   -0.7393   -90.3518                 78.76            86   \n",
       "4  Batemans Bay  -35.7167   150.1833                 62.10            67   \n",
       "\n",
       "   Cloudiness (%)  Wind Speed (MPH) Country        Date  \n",
       "0             100              5.93      NZ  1669755426  \n",
       "1              91              3.44      VU  1669755426  \n",
       "2              75             27.63      CL  1669755426  \n",
       "3              58              5.99      EC  1669755426  \n",
       "4              40              3.67      AU  1669755426  "
      ]
     },
     "execution_count": 52,
     "metadata": {},
     "output_type": "execute_result"
    }
   ],
   "source": [
    "# Convert the cities weather data into a Pandas DataFrame\n",
    "citys_dict = {\n",
    "    'City': city_data,\n",
    "    'Latitude' : lat,\n",
    "    'Longitude' : lng,\n",
    "    'Max Temperature (°C)': max_temp,\n",
    "    'Humidity (%)': humidity,\n",
    "    'Cloudiness (%)': cloudiness,\n",
    "    'Wind Speed (MPH)': wind_speed,\n",
    "    'Country': country,\n",
    "    'Date': date\n",
    " }\n",
    "\n",
    "city_data_df = pd.DataFrame(citys_dict)\n",
    "city_data_df.head()"
   ]
  },
  {
   "cell_type": "code",
   "execution_count": 53,
   "metadata": {},
   "outputs": [
    {
     "data": {
      "text/plain": [
       "<bound method DataFrame.count of              City  Latitude  Longitude  Max Temperature (°C)  Humidity (%)  \\\n",
       "0         Mataura  -46.1927   168.8643                 59.49            76   \n",
       "1         Isangel  -19.5500   169.2667                 84.31            79   \n",
       "2    Punta Arenas  -53.1500   -70.9167                 48.31            57   \n",
       "3    Puerto Ayora   -0.7393   -90.3518                 78.76            86   \n",
       "4    Batemans Bay  -35.7167   150.1833                 62.10            67   \n",
       "..            ...       ...        ...                   ...           ...   \n",
       "556      Buraidah   26.3260    43.9750                 72.05            26   \n",
       "557         Mīnāb   27.1467    57.0801                 66.52            82   \n",
       "558        Kielce   50.8703    20.6275                 33.03             1   \n",
       "559       Amurzet   47.6967   131.0981                  0.70            73   \n",
       "560        Karema   -6.8205    30.4389                 72.18            81   \n",
       "\n",
       "     Cloudiness (%)  Wind Speed (MPH) Country        Date  \n",
       "0               100              5.93      NZ  1669755426  \n",
       "1                91              3.44      VU  1669755426  \n",
       "2                75             27.63      CL  1669755426  \n",
       "3                58              5.99      EC  1669755426  \n",
       "4                40              3.67      AU  1669755426  \n",
       "..              ...               ...     ...         ...  \n",
       "556             100             12.55      SA  1669755424  \n",
       "557              32              0.00      IR  1669755533  \n",
       "558              13              5.79      PL  1669755385  \n",
       "559              97             16.35      RU  1669755533  \n",
       "560              99              4.18      TZ  1669755534  \n",
       "\n",
       "[561 rows x 9 columns]>"
      ]
     },
     "execution_count": 53,
     "metadata": {},
     "output_type": "execute_result"
    }
   ],
   "source": [
    "# Display sample data\n",
    "city_data_df.count\n"
   ]
  },
  {
   "cell_type": "code",
   "execution_count": 54,
   "metadata": {},
   "outputs": [],
   "source": [
    "# Export the City_Data into a csv\n",
    "city_data_df.to_csv(\"output_data/cities.csv\", index_label=\"City_ID\")"
   ]
  },
  {
   "cell_type": "code",
   "execution_count": 55,
   "metadata": {},
   "outputs": [
    {
     "data": {
      "text/html": [
       "<div>\n",
       "<style scoped>\n",
       "    .dataframe tbody tr th:only-of-type {\n",
       "        vertical-align: middle;\n",
       "    }\n",
       "\n",
       "    .dataframe tbody tr th {\n",
       "        vertical-align: top;\n",
       "    }\n",
       "\n",
       "    .dataframe thead th {\n",
       "        text-align: right;\n",
       "    }\n",
       "</style>\n",
       "<table border=\"1\" class=\"dataframe\">\n",
       "  <thead>\n",
       "    <tr style=\"text-align: right;\">\n",
       "      <th></th>\n",
       "      <th>City</th>\n",
       "      <th>Latitude</th>\n",
       "      <th>Longitude</th>\n",
       "      <th>Max Temperature (°C)</th>\n",
       "      <th>Humidity (%)</th>\n",
       "      <th>Cloudiness (%)</th>\n",
       "      <th>Wind Speed (MPH)</th>\n",
       "      <th>Country</th>\n",
       "      <th>Date</th>\n",
       "    </tr>\n",
       "    <tr>\n",
       "      <th>City_ID</th>\n",
       "      <th></th>\n",
       "      <th></th>\n",
       "      <th></th>\n",
       "      <th></th>\n",
       "      <th></th>\n",
       "      <th></th>\n",
       "      <th></th>\n",
       "      <th></th>\n",
       "      <th></th>\n",
       "    </tr>\n",
       "  </thead>\n",
       "  <tbody>\n",
       "    <tr>\n",
       "      <th>0</th>\n",
       "      <td>Mataura</td>\n",
       "      <td>-46.1927</td>\n",
       "      <td>168.8643</td>\n",
       "      <td>59.49</td>\n",
       "      <td>76</td>\n",
       "      <td>100</td>\n",
       "      <td>5.93</td>\n",
       "      <td>NZ</td>\n",
       "      <td>1669755426</td>\n",
       "    </tr>\n",
       "    <tr>\n",
       "      <th>1</th>\n",
       "      <td>Isangel</td>\n",
       "      <td>-19.5500</td>\n",
       "      <td>169.2667</td>\n",
       "      <td>84.31</td>\n",
       "      <td>79</td>\n",
       "      <td>91</td>\n",
       "      <td>3.44</td>\n",
       "      <td>VU</td>\n",
       "      <td>1669755426</td>\n",
       "    </tr>\n",
       "    <tr>\n",
       "      <th>2</th>\n",
       "      <td>Punta Arenas</td>\n",
       "      <td>-53.1500</td>\n",
       "      <td>-70.9167</td>\n",
       "      <td>48.31</td>\n",
       "      <td>57</td>\n",
       "      <td>75</td>\n",
       "      <td>27.63</td>\n",
       "      <td>CL</td>\n",
       "      <td>1669755426</td>\n",
       "    </tr>\n",
       "    <tr>\n",
       "      <th>3</th>\n",
       "      <td>Puerto Ayora</td>\n",
       "      <td>-0.7393</td>\n",
       "      <td>-90.3518</td>\n",
       "      <td>78.76</td>\n",
       "      <td>86</td>\n",
       "      <td>58</td>\n",
       "      <td>5.99</td>\n",
       "      <td>EC</td>\n",
       "      <td>1669755426</td>\n",
       "    </tr>\n",
       "    <tr>\n",
       "      <th>4</th>\n",
       "      <td>Batemans Bay</td>\n",
       "      <td>-35.7167</td>\n",
       "      <td>150.1833</td>\n",
       "      <td>62.10</td>\n",
       "      <td>67</td>\n",
       "      <td>40</td>\n",
       "      <td>3.67</td>\n",
       "      <td>AU</td>\n",
       "      <td>1669755426</td>\n",
       "    </tr>\n",
       "  </tbody>\n",
       "</table>\n",
       "</div>"
      ],
      "text/plain": [
       "                 City  Latitude  Longitude  Max Temperature (°C)  \\\n",
       "City_ID                                                            \n",
       "0             Mataura  -46.1927   168.8643                 59.49   \n",
       "1             Isangel  -19.5500   169.2667                 84.31   \n",
       "2        Punta Arenas  -53.1500   -70.9167                 48.31   \n",
       "3        Puerto Ayora   -0.7393   -90.3518                 78.76   \n",
       "4        Batemans Bay  -35.7167   150.1833                 62.10   \n",
       "\n",
       "         Humidity (%)  Cloudiness (%)  Wind Speed (MPH) Country        Date  \n",
       "City_ID                                                                      \n",
       "0                  76             100              5.93      NZ  1669755426  \n",
       "1                  79              91              3.44      VU  1669755426  \n",
       "2                  57              75             27.63      CL  1669755426  \n",
       "3                  86              58              5.99      EC  1669755426  \n",
       "4                  67              40              3.67      AU  1669755426  "
      ]
     },
     "execution_count": 55,
     "metadata": {},
     "output_type": "execute_result"
    }
   ],
   "source": [
    "# Read saved data\n",
    "city_data_df = pd.read_csv(\"output_data/cities.csv\", index_col=\"City_ID\")\n",
    "\n",
    "# Display sample data\n",
    "city_data_df.head()"
   ]
  },
  {
   "cell_type": "markdown",
   "metadata": {},
   "source": [
    "#### Checking DF is Clean and Consistent\n"
   ]
  },
  {
   "cell_type": "code",
   "execution_count": 56,
   "metadata": {},
   "outputs": [
    {
     "data": {
      "text/html": [
       "<div>\n",
       "<style scoped>\n",
       "    .dataframe tbody tr th:only-of-type {\n",
       "        vertical-align: middle;\n",
       "    }\n",
       "\n",
       "    .dataframe tbody tr th {\n",
       "        vertical-align: top;\n",
       "    }\n",
       "\n",
       "    .dataframe thead th {\n",
       "        text-align: right;\n",
       "    }\n",
       "</style>\n",
       "<table border=\"1\" class=\"dataframe\">\n",
       "  <thead>\n",
       "    <tr style=\"text-align: right;\">\n",
       "      <th></th>\n",
       "      <th>City</th>\n",
       "      <th>Latitude</th>\n",
       "      <th>Longitude</th>\n",
       "      <th>Max Temperature (°C)</th>\n",
       "      <th>Humidity (%)</th>\n",
       "      <th>Cloudiness (%)</th>\n",
       "      <th>Wind Speed (MPH)</th>\n",
       "      <th>Country</th>\n",
       "      <th>Date</th>\n",
       "    </tr>\n",
       "    <tr>\n",
       "      <th>City_ID</th>\n",
       "      <th></th>\n",
       "      <th></th>\n",
       "      <th></th>\n",
       "      <th></th>\n",
       "      <th></th>\n",
       "      <th></th>\n",
       "      <th></th>\n",
       "      <th></th>\n",
       "      <th></th>\n",
       "    </tr>\n",
       "  </thead>\n",
       "  <tbody>\n",
       "    <tr>\n",
       "      <th>0</th>\n",
       "      <td>Mataura</td>\n",
       "      <td>-46.1927</td>\n",
       "      <td>168.8643</td>\n",
       "      <td>59.49</td>\n",
       "      <td>76</td>\n",
       "      <td>100</td>\n",
       "      <td>5.93</td>\n",
       "      <td>NZ</td>\n",
       "      <td>1669755426</td>\n",
       "    </tr>\n",
       "    <tr>\n",
       "      <th>1</th>\n",
       "      <td>Isangel</td>\n",
       "      <td>-19.5500</td>\n",
       "      <td>169.2667</td>\n",
       "      <td>84.31</td>\n",
       "      <td>79</td>\n",
       "      <td>91</td>\n",
       "      <td>3.44</td>\n",
       "      <td>VU</td>\n",
       "      <td>1669755426</td>\n",
       "    </tr>\n",
       "    <tr>\n",
       "      <th>2</th>\n",
       "      <td>Punta Arenas</td>\n",
       "      <td>-53.1500</td>\n",
       "      <td>-70.9167</td>\n",
       "      <td>48.31</td>\n",
       "      <td>57</td>\n",
       "      <td>75</td>\n",
       "      <td>27.63</td>\n",
       "      <td>CL</td>\n",
       "      <td>1669755426</td>\n",
       "    </tr>\n",
       "    <tr>\n",
       "      <th>3</th>\n",
       "      <td>Puerto Ayora</td>\n",
       "      <td>-0.7393</td>\n",
       "      <td>-90.3518</td>\n",
       "      <td>78.76</td>\n",
       "      <td>86</td>\n",
       "      <td>58</td>\n",
       "      <td>5.99</td>\n",
       "      <td>EC</td>\n",
       "      <td>1669755426</td>\n",
       "    </tr>\n",
       "    <tr>\n",
       "      <th>4</th>\n",
       "      <td>Batemans Bay</td>\n",
       "      <td>-35.7167</td>\n",
       "      <td>150.1833</td>\n",
       "      <td>62.10</td>\n",
       "      <td>67</td>\n",
       "      <td>40</td>\n",
       "      <td>3.67</td>\n",
       "      <td>AU</td>\n",
       "      <td>1669755426</td>\n",
       "    </tr>\n",
       "    <tr>\n",
       "      <th>...</th>\n",
       "      <td>...</td>\n",
       "      <td>...</td>\n",
       "      <td>...</td>\n",
       "      <td>...</td>\n",
       "      <td>...</td>\n",
       "      <td>...</td>\n",
       "      <td>...</td>\n",
       "      <td>...</td>\n",
       "      <td>...</td>\n",
       "    </tr>\n",
       "    <tr>\n",
       "      <th>556</th>\n",
       "      <td>Buraidah</td>\n",
       "      <td>26.3260</td>\n",
       "      <td>43.9750</td>\n",
       "      <td>72.05</td>\n",
       "      <td>26</td>\n",
       "      <td>100</td>\n",
       "      <td>12.55</td>\n",
       "      <td>SA</td>\n",
       "      <td>1669755424</td>\n",
       "    </tr>\n",
       "    <tr>\n",
       "      <th>557</th>\n",
       "      <td>Mīnāb</td>\n",
       "      <td>27.1467</td>\n",
       "      <td>57.0801</td>\n",
       "      <td>66.52</td>\n",
       "      <td>82</td>\n",
       "      <td>32</td>\n",
       "      <td>0.00</td>\n",
       "      <td>IR</td>\n",
       "      <td>1669755533</td>\n",
       "    </tr>\n",
       "    <tr>\n",
       "      <th>558</th>\n",
       "      <td>Kielce</td>\n",
       "      <td>50.8703</td>\n",
       "      <td>20.6275</td>\n",
       "      <td>33.03</td>\n",
       "      <td>1</td>\n",
       "      <td>13</td>\n",
       "      <td>5.79</td>\n",
       "      <td>PL</td>\n",
       "      <td>1669755385</td>\n",
       "    </tr>\n",
       "    <tr>\n",
       "      <th>559</th>\n",
       "      <td>Amurzet</td>\n",
       "      <td>47.6967</td>\n",
       "      <td>131.0981</td>\n",
       "      <td>0.70</td>\n",
       "      <td>73</td>\n",
       "      <td>97</td>\n",
       "      <td>16.35</td>\n",
       "      <td>RU</td>\n",
       "      <td>1669755533</td>\n",
       "    </tr>\n",
       "    <tr>\n",
       "      <th>560</th>\n",
       "      <td>Karema</td>\n",
       "      <td>-6.8205</td>\n",
       "      <td>30.4389</td>\n",
       "      <td>72.18</td>\n",
       "      <td>81</td>\n",
       "      <td>99</td>\n",
       "      <td>4.18</td>\n",
       "      <td>TZ</td>\n",
       "      <td>1669755534</td>\n",
       "    </tr>\n",
       "  </tbody>\n",
       "</table>\n",
       "<p>561 rows × 9 columns</p>\n",
       "</div>"
      ],
      "text/plain": [
       "                 City  Latitude  Longitude  Max Temperature (°C)  \\\n",
       "City_ID                                                            \n",
       "0             Mataura  -46.1927   168.8643                 59.49   \n",
       "1             Isangel  -19.5500   169.2667                 84.31   \n",
       "2        Punta Arenas  -53.1500   -70.9167                 48.31   \n",
       "3        Puerto Ayora   -0.7393   -90.3518                 78.76   \n",
       "4        Batemans Bay  -35.7167   150.1833                 62.10   \n",
       "...               ...       ...        ...                   ...   \n",
       "556          Buraidah   26.3260    43.9750                 72.05   \n",
       "557             Mīnāb   27.1467    57.0801                 66.52   \n",
       "558            Kielce   50.8703    20.6275                 33.03   \n",
       "559           Amurzet   47.6967   131.0981                  0.70   \n",
       "560            Karema   -6.8205    30.4389                 72.18   \n",
       "\n",
       "         Humidity (%)  Cloudiness (%)  Wind Speed (MPH) Country        Date  \n",
       "City_ID                                                                      \n",
       "0                  76             100              5.93      NZ  1669755426  \n",
       "1                  79              91              3.44      VU  1669755426  \n",
       "2                  57              75             27.63      CL  1669755426  \n",
       "3                  86              58              5.99      EC  1669755426  \n",
       "4                  67              40              3.67      AU  1669755426  \n",
       "...               ...             ...               ...     ...         ...  \n",
       "556                26             100             12.55      SA  1669755424  \n",
       "557                82              32              0.00      IR  1669755533  \n",
       "558                 1              13              5.79      PL  1669755385  \n",
       "559                73              97             16.35      RU  1669755533  \n",
       "560                81              99              4.18      TZ  1669755534  \n",
       "\n",
       "[561 rows x 9 columns]"
      ]
     },
     "execution_count": 56,
     "metadata": {},
     "output_type": "execute_result"
    }
   ],
   "source": [
    "cleaned_city_df = city_data_df.loc[city_data_df['Humidity (%)'] <= 100]\n",
    "cleaned_city_df"
   ]
  },
  {
   "cell_type": "markdown",
   "metadata": {},
   "source": [
    "#### Plotting Data\n",
    "* Use proper labeling of the plots using plot titles (including date of analysis) and axes labels.\n",
    "* Save the plotted figures as .pngs.\n",
    "\n",
    "##### Latitude Vs. Temperature"
   ]
  },
  {
   "cell_type": "code",
   "execution_count": 68,
   "metadata": {
    "tags": []
   },
   "outputs": [
    {
     "data": {
      "image/png": "[encoded data removed]",
      "text/plain": [
       "<Figure size 432x288 with 1 Axes>"
      ]
     },
     "metadata": {
      "needs_background": "light"
     },
     "output_type": "display_data"
    }
   ],
   "source": [
    "# Plot the scatter plot that shows the relation between latitude and max temperature\n",
    "cleaned_city_df.plot(kind='scatter', x='Latitude', y='Max Temperature (°C)', \n",
    "                     title=f'Latitude vs. Max Temperature')\n",
    "                    \n",
    "              \n",
    "plt.grid()\n",
    "# Save the figure\n",
    "plt.savefig(\"output_data/Lat Vs Temp Plot.png\")\n",
    "# Show plot\n",
    "plt.show()"
   ]
  },
  {
   "cell_type": "markdown",
   "metadata": {},
   "source": [
    "##### Latitude Vs. Humidity"
   ]
  },
  {
   "cell_type": "code",
   "execution_count": 69,
   "metadata": {},
   "outputs": [
    {
     "data": {
      "image/png": "[encoded data removed]",
      "text/plain": [
       "<Figure size 432x288 with 1 Axes>"
      ]
     },
     "metadata": {
      "needs_background": "light"
     },
     "output_type": "display_data"
    }
   ],
   "source": [
    "# Plot the scatter plot that shows the relation between latitude and humidity\n",
    "cleaned_city_df.plot(kind='scatter', x='Latitude', y='Humidity (%)', \n",
    "                       title=f'Latitude vs. Humidity')\n",
    "plt.grid()\n",
    "# Save the figure\n",
    "plt.savefig(\"output_data/Lat Vs Humidity Plot.png\")\n",
    "# Show plot\n",
    "plt.show()"
   ]
  },
  {
   "cell_type": "markdown",
   "metadata": {},
   "source": [
    "##### Latitude Vs. Cloudiness"
   ]
  },
  {
   "cell_type": "code",
   "execution_count": 70,
   "metadata": {},
   "outputs": [
    {
     "data": {
      "image/png": "[encoded data removed]",
      "text/plain": [
       "<Figure size 432x288 with 1 Axes>"
      ]
     },
     "metadata": {
      "needs_background": "light"
     },
     "output_type": "display_data"
    }
   ],
   "source": [
    "# Plot the scatter plot that shows the relation between latitude and cloudiness\n",
    "cleaned_city_df.plot(kind='scatter', x='Latitude', y='Cloudiness (%)', \n",
    "                       title=f'Latitude vs. Cloudiness')\n",
    "plt.grid()\n",
    "# Save the figure\n",
    "plt.savefig(\"output_data/Lat Vs Cloudiness Plot.png\")\n",
    "# Show plot\n",
    "plt.show()"
   ]
  },
  {
   "cell_type": "markdown",
   "metadata": {},
   "source": [
    "##### Latitude vs. Wind Speed Plot"
   ]
  },
  {
   "cell_type": "code",
   "execution_count": 72,
   "metadata": {},
   "outputs": [
    {
     "data": {
      "image/png": "[encoded data removed]",
      "text/plain": [
       "<Figure size 432x288 with 1 Axes>"
      ]
     },
     "metadata": {
      "needs_background": "light"
     },
     "output_type": "display_data"
    }
   ],
   "source": [
    "# Plot the scatter plot that shows the relation between latitude and max temperature\n",
    "cleaned_city_df.plot(kind='scatter', x='Latitude', y='Wind Speed (MPH)', \n",
    "                       title=f'Latitude vs. Wind Speed')\n",
    "plt.grid()\n",
    "# Save the figure\n",
    "plt.savefig(\"output_data/Lat Vs Wind Speed Plot.png\")\n",
    "# Show plot\n",
    "plt.show()"
   ]
  },
  {
   "cell_type": "markdown",
   "metadata": {},
   "source": [
    "---\n",
    "\n",
    "### Requirement 2: Compute Linear Regression for Each Relationship\n"
   ]
  },
  {
   "cell_type": "code",
   "execution_count": 119,
   "metadata": {},
   "outputs": [],
   "source": [
    "# Create a DataFrame with the Northern Hemisphere data (Latitude >= 0)\n",
    "# YOUR CODE HERE\n",
    "\n",
    "nor_hem_df = cleaned_city_df[cleaned_city_df[\"Latitude\"]>0]\n",
    "sth_hem_df = cleaned_city_df[cleaned_city_df[\"Latitude\"]<0]"
   ]
  },
  {
   "cell_type": "markdown",
   "metadata": {},
   "source": [
    "####  Temperature vs. Latitude Linear Regression Plot"
   ]
  },
  {
   "cell_type": "markdown",
   "metadata": {},
   "source": [
    "* Northern Hemisphere - Max Temp vs. Latitude Linear Regression"
   ]
  },
  {
   "cell_type": "code",
   "execution_count": 95,
   "metadata": {},
   "outputs": [
    {
     "name": "stdout",
     "output_type": "stream",
     "text": [
      "The r-squared is 0.6443747187588343\n",
      "The linear regression model is y = -1.35x + 94.14\n"
     ]
    },
    {
     "data": {
      "image/png": "[encoded data removed]",
      "text/plain": [
       "<Figure size 432x288 with 1 Axes>"
      ]
     },
     "metadata": {
      "needs_background": "light"
     },
     "output_type": "display_data"
    }
   ],
   "source": [
    "# Plot the linear regression model between latitude and max temperature in the northern hemisphere\n",
    "nor_hem_df.plot(kind='scatter', x='Latitude', y='Max Temperature (°C)', title='Latitude vs. Max Temperature')\n",
    "\n",
    "# Find the linear regression model and print it to the scatter plot\n",
    "(slope, intercept, rvalue, pvalue, stderr) = linregress(nor_hem_df['Latitude'], nor_hem_df['Max Temperature (°C)'])\n",
    "regress_values = nor_hem_df['Latitude'] * slope + intercept\n",
    "line_eq = \"y = \" + str(round(slope,2)) + \"x + \" + str(round(intercept,2))\n",
    "plt.scatter(nor_hem_df['Latitude'], nor_hem_df['Max Temperature (°C)'])\n",
    "plt.plot(nor_hem_df['Latitude'],regress_values,\"r-\")\n",
    "plt.annotate(line_eq, (45, 60),fontsize=14,color=\"red\")\n",
    "\n",
    "print(f'The r-squared is {rvalue**2}')\n",
    "print(f'The linear regression model is {line_eq}')"
   ]
  },
  {
   "cell_type": "markdown",
   "metadata": {},
   "source": [
    "***Discussion about the linear relationship:*** Northern Hemp, max temp decreases when city is away form 0 degree latitude."
   ]
  },
  {
   "cell_type": "markdown",
   "metadata": {},
   "source": [
    "* Southern Hemisphere - Max Temp vs. Latitude Linear Regression"
   ]
  },
  {
   "cell_type": "code",
   "execution_count": 125,
   "metadata": {},
   "outputs": [
    {
     "data": {
      "image/png": "[encoded data removed]",
      "text/plain": [
       "<Figure size 432x288 with 1 Axes>"
      ]
     },
     "metadata": {
      "needs_background": "light"
     },
     "output_type": "display_data"
    },
    {
     "name": "stdout",
     "output_type": "stream",
     "text": [
      "The r-squared is 0.3355087631117202\n",
      "The linear regression model is y = 0.43x + 81.13\n"
     ]
    }
   ],
   "source": [
    "# Plot the linear regression model between latitude and max temperature in the southern hemisphere\n",
    "sth_hem_df.plot(kind='scatter', x='Latitude', y='Max Temperature (°C)', title='Latitude vs. Max Temperature')\n",
    "\n",
    "# Find the linear regression model and print it to the scatter plot\n",
    "(slope, intercept, rvalue, pvalue, stderr) = linregress(sth_hem_df['Latitude'], sth_hem_df['Max Temperature (°C)'])\n",
    "regress_values = sth_hem_df['Latitude'] * slope + intercept\n",
    "line_eq = \"y = \" + str(round(slope,2)) + \"x + \" + str(round(intercept,2))\n",
    "plt.scatter(sth_hem_df['Latitude'], sth_hem_df['Max Temperature (°C)'])\n",
    "plt.plot(sth_hem_df['Latitude'],regress_values,\"r-\")\n",
    "plt.annotate(line_eq,(-50,90),fontsize=14,color=\"red\")\n",
    "plt.show()\n",
    "\n",
    "print(f'The r-squared is {rvalue**2}')\n",
    "print(f'The linear regression model is {line_eq}')"
   ]
  },
  {
   "cell_type": "markdown",
   "metadata": {},
   "source": [
    "***Discussion about the linear relationship:*** Southern Hemp, max temp increases when city is closer to 0 degree longitude."
   ]
  },
  {
   "cell_type": "markdown",
   "metadata": {},
   "source": [
    "### Humidity vs. Latitude Linear Regression Plot"
   ]
  },
  {
   "cell_type": "markdown",
   "metadata": {},
   "source": [
    "* Northern Hemisphere - Humidity vs. Latitude Linear Regression"
   ]
  },
  {
   "cell_type": "code",
   "execution_count": 113,
   "metadata": {},
   "outputs": [
    {
     "name": "stdout",
     "output_type": "stream",
     "text": [
      "The r-squared is 0.10394653786753716\n",
      "The linear regression model is y = 0.37x + 59.39\n"
     ]
    },
    {
     "data": {
      "image/png": "[encoded data removed]",
      "text/plain": [
       "<Figure size 432x288 with 1 Axes>"
      ]
     },
     "metadata": {
      "needs_background": "light"
     },
     "output_type": "display_data"
    }
   ],
   "source": [
    "# Plot the linear regression model between latitude and humidity in the northern hemisphere\n",
    "nor_hem_df.plot(kind='scatter', x='Latitude', y='Humidity (%)', title='Latitude vs. Humidity')\n",
    "\n",
    "# Find the linear regression model and print it to the scatter plot\n",
    "(slope, intercept, rvalue, pvalue, stderr) = linregress(nor_hem_df['Latitude'], nor_hem_df['Humidity (%)'])\n",
    "regress_values = nor_hem_df['Latitude'] * slope + intercept\n",
    "line_eq = \"y = \" + str(round(slope,2)) + \"x + \" + str(round(intercept,2))\n",
    "plt.scatter(nor_hem_df['Latitude'], nor_hem_df['Humidity (%)'])\n",
    "plt.plot(nor_hem_df['Latitude'],regress_values,\"r-\")\n",
    "plt.annotate(line_eq,(46,15),fontsize=14,color=\"red\")\n",
    "\n",
    "print(f'The r-squared is {rvalue**2}')\n",
    "print(f'The linear regression model is {line_eq}')"
   ]
  },
  {
   "cell_type": "markdown",
   "metadata": {},
   "source": [
    "***Discussion about the linear relationship:*** Northern Hemp, humidity increases when city is away from 0 degree latitude.\n"
   ]
  },
  {
   "cell_type": "code",
   "execution_count": 116,
   "metadata": {},
   "outputs": [
    {
     "name": "stdout",
     "output_type": "stream",
     "text": [
      "The r-squared is 0.04621127776970706\n",
      "The linear regression model is y = 0.27x + 80.81\n"
     ]
    },
    {
     "data": {
      "image/png": "[encoded data removed]",
      "text/plain": [
       "<Figure size 432x288 with 1 Axes>"
      ]
     },
     "metadata": {
      "needs_background": "light"
     },
     "output_type": "display_data"
    }
   ],
   "source": [
    "# Plot the linear regression model between latitude and humidity in the southern hemisphere\n",
    "sth_hem_df.plot(kind='scatter', x='Latitude', y='Humidity (%)', title='Latitude vs. Humidity')\n",
    "\n",
    "# Find the linear regression model and print it to the scatter plot\n",
    "(slope, intercept, rvalue, pvalue, stderr) = linregress(sth_hem_df['Latitude'], sth_hem_df['Humidity (%)'])\n",
    "regress_values = sth_hem_df['Latitude'] * slope + intercept\n",
    "line_eq = \"y = \" + str(round(slope,2)) + \"x + \" + str(round(intercept,2))\n",
    "plt.scatter(sth_hem_df['Latitude'], sth_hem_df['Humidity (%)'])\n",
    "plt.plot(sth_hem_df['Latitude'],regress_values,\"r-\")\n",
    "plt.annotate(line_eq,(-22,18),fontsize=14,color=\"red\")\n",
    "\n",
    "print(f'The r-squared is {rvalue**2}')\n",
    "print(f'The linear regression model is {line_eq}')"
   ]
  },
  {
   "cell_type": "markdown",
   "metadata": {},
   "source": [
    "***Discussion about the linear relationship:*** Southern Hemp, humidity increeases substnatially when city is moving toward the 0 degree latitude."
   ]
  },
  {
   "cell_type": "markdown",
   "metadata": {},
   "source": [
    "### Cloudiness vs. Latitude Linear Regression Plot"
   ]
  },
  {
   "cell_type": "markdown",
   "metadata": {},
   "source": [
    "* Northern Hemisphere - Cloudiness vs. Latitude Linear Regression"
   ]
  },
  {
   "cell_type": "code",
   "execution_count": 121,
   "metadata": {},
   "outputs": [
    {
     "name": "stdout",
     "output_type": "stream",
     "text": [
      "The r-squared is 0.08678547450374732\n",
      "The linear regression model is y = 0.62x + 38.87\n"
     ]
    },
    {
     "data": {
      "image/png": "[encoded data removed]",
      "text/plain": [
       "<Figure size 432x288 with 1 Axes>"
      ]
     },
     "metadata": {
      "needs_background": "light"
     },
     "output_type": "display_data"
    }
   ],
   "source": [
    "# Plot the linear regression model between latitude and cloudiness in the northern hemisphere\n",
    "nor_hem_df.plot(kind='scatter', x='Latitude', y='Cloudiness (%)', title='Latitude vs. Cloudiness')\n",
    "\n",
    "# Find the linear regression model and print it to the scatter plot\n",
    "(slope, intercept, rvalue, pvalue, stderr) = linregress(nor_hem_df['Latitude'], nor_hem_df['Cloudiness (%)'])\n",
    "regress_values = nor_hem_df['Latitude'] * slope + intercept\n",
    "line_eq = \"y = \" + str(round(slope,2)) + \"x + \" + str(round(intercept,2))\n",
    "plt.scatter(nor_hem_df['Latitude'], nor_hem_df['Cloudiness (%)'])\n",
    "plt.plot(nor_hem_df['Latitude'],regress_values,\"r-\")\n",
    "plt.annotate(line_eq,(45,30),fontsize=14,color=\"red\")\n",
    "\n",
    "print(f'The r-squared is {rvalue**2}')\n",
    "print(f'The linear regression model is {line_eq}')"
   ]
  },
  {
   "cell_type": "markdown",
   "metadata": {},
   "source": [
    "***Discussion about the linear relationship:*** Northerm Hemp, cloudiness percentage increases substnatially when when city is moving past 40 longitude"
   ]
  },
  {
   "cell_type": "code",
   "execution_count": 122,
   "metadata": {},
   "outputs": [
    {
     "name": "stdout",
     "output_type": "stream",
     "text": [
      "The r-squared is 0.11598395982461526\n",
      "The linear regression model is y = 0.95x + 83.51\n"
     ]
    },
    {
     "data": {
      "image/png": "[encoded data removed]",
      "text/plain": [
       "<Figure size 432x288 with 1 Axes>"
      ]
     },
     "metadata": {
      "needs_background": "light"
     },
     "output_type": "display_data"
    }
   ],
   "source": [
    "# Plot the linear regression model between latitude and cloudiness in the southern hemisphere\n",
    "sth_hem_df.plot(kind='scatter', x='Latitude', y='Cloudiness (%)', title='Latitude vs. Cloudiness')\n",
    "\n",
    "# Find the linear regression model and print it to the scatter plot\n",
    "(slope, intercept, rvalue, pvalue, stderr) = linregress(sth_hem_df['Latitude'], sth_hem_df['Cloudiness (%)'])\n",
    "regress_values = sth_hem_df['Latitude'] * slope + intercept\n",
    "line_eq = \"y = \" + str(round(slope,2)) + \"x + \" + str(round(intercept,2))\n",
    "plt.scatter(sth_hem_df['Latitude'], sth_hem_df['Cloudiness (%)'])\n",
    "plt.plot(sth_hem_df['Latitude'],regress_values,\"r-\")\n",
    "plt.annotate(line_eq,(-56,50),fontsize=14,color=\"red\")\n",
    "\n",
    "print(f'The r-squared is {rvalue**2}')\n",
    "print(f'The linear regression model is {line_eq}')"
   ]
  },
  {
   "cell_type": "markdown",
   "metadata": {},
   "source": [
    "***Discussion about the linear relationship:*** Southern Hemp, cloudiness volume increases when city is moving toward the 0 latitude"
   ]
  },
  {
   "cell_type": "markdown",
   "metadata": {},
   "source": [
    "### Wind Speed vs. Latitude Linear Regression Plot"
   ]
  },
  {
   "cell_type": "code",
   "execution_count": 124,
   "metadata": {},
   "outputs": [
    {
     "name": "stdout",
     "output_type": "stream",
     "text": [
      "The r-squared is 0.01503375381800178\n",
      "The linear regression model is y = 0.04x + 6.3\n"
     ]
    },
    {
     "data": {
      "image/png": "[encoded data removed]",
      "text/plain": [
       "<Figure size 432x288 with 1 Axes>"
      ]
     },
     "metadata": {
      "needs_background": "light"
     },
     "output_type": "display_data"
    }
   ],
   "source": [
    "\n",
    "# Plot the linear regression model between latitude and wind speed in the northern hemisphere\n",
    "nor_hem_df.plot(kind='scatter', x='Latitude', y='Wind Speed (MPH)', title='Latitude vs. Wind Speed')\n",
    "\n",
    "# Find the linear regression model and print it to the scatter plot\n",
    "(slope, intercept, rvalue, pvalue, stderr) = linregress(nor_hem_df['Latitude'], nor_hem_df['Wind Speed (MPH)'])\n",
    "regress_values = nor_hem_df['Latitude'] * slope + intercept\n",
    "line_eq = \"y = \" + str(round(slope,2)) + \"x + \" + str(round(intercept,2))\n",
    "plt.scatter(nor_hem_df['Latitude'], nor_hem_df['Wind Speed (MPH)'])\n",
    "plt.plot(nor_hem_df['Latitude'],regress_values,\"r-\")\n",
    "plt.annotate(line_eq,(0,30),fontsize=14,color=\"red\")\n",
    "\n",
    "print(f'The r-squared is {rvalue**2}')\n",
    "print(f'The linear regression model is {line_eq}')"
   ]
  },
  {
   "cell_type": "markdown",
   "metadata": {},
   "source": [
    "***Discussion about the linear relationship:*** Northern Hemp, wind speed not affected much by latitude and demonstrates steeper negligable change when city is away from 0 latitude."
   ]
  },
  {
   "cell_type": "code",
   "execution_count": 127,
   "metadata": {},
   "outputs": [
    {
     "name": "stdout",
     "output_type": "stream",
     "text": [
      "The r-squared is 0.14086894598249047\n",
      "The linear regression model is y = -0.15x + 4.99\n"
     ]
    },
    {
     "data": {
      "image/png": "[encoded data removed]",
      "text/plain": [
       "<Figure size 432x288 with 1 Axes>"
      ]
     },
     "metadata": {
      "needs_background": "light"
     },
     "output_type": "display_data"
    }
   ],
   "source": [
    "# Plot the linear regression model between latitude and wind speed in the southern hemisphere\n",
    "sth_hem_df.plot(kind='scatter', x='Latitude', y='Wind Speed (MPH)', title='Latitude vs. Wind Speed')\n",
    "\n",
    "# Find the linear regression model and print it to the scatter plot\n",
    "(slope, intercept, rvalue, pvalue, stderr) = linregress(sth_hem_df['Latitude'], sth_hem_df['Wind Speed (MPH)'])\n",
    "regress_values = sth_hem_df['Latitude'] * slope + intercept\n",
    "line_eq = \"y = \" + str(round(slope,2)) + \"x + \" + str(round(intercept,2))\n",
    "plt.scatter(sth_hem_df['Latitude'], sth_hem_df['Wind Speed (MPH)'])\n",
    "plt.plot(sth_hem_df['Latitude'],regress_values,\"r-\")\n",
    "plt.annotate(line_eq,(-22,25),fontsize=14,color=\"red\")\n",
    "\n",
    "print(f'The r-squared is {rvalue**2}')\n",
    "print(f'The linear regression model is {line_eq}')"
   ]
  },
  {
   "cell_type": "markdown",
   "metadata": {},
   "source": [
    "***Discussion about the linear relationship:*** Southern Hemp, wind speed not affected much by latitude and demonstrates steeper slope when city is closer to 0 latitude."
   ]
  },
  {
   "cell_type": "code",
   "execution_count": null,
   "metadata": {},
   "outputs": [],
   "source": []
  }
 ],
 "metadata": {
  "anaconda-cloud": {},
  "kernel_info": {
   "name": "python3"
  },
  "kernelspec": {
   "display_name": "PythonData",
   "language": "python",
   "name": "pythondata"
  },
  "language_info": {
   "codemirror_mode": {
    "name": "ipython",
    "version": 3
   },
   "file_extension": ".py",
   "mimetype": "text/x-python",
   "name": "python",
   "nbconvert_exporter": "python",
   "pygments_lexer": "ipython3",
   "version": "3.7.7"
  },
  "latex_envs": {
   "LaTeX_envs_menu_present": true,
   "autoclose": false,
   "autocomplete": true,
   "bibliofile": "biblio.bib",
   "cite_by": "apalike",
   "current_citInitial": 1,
   "eqLabelWithNumbers": true,
   "eqNumInitial": 1,
   "hotkeys": {
    "equation": "Ctrl-E",
    "itemize": "Ctrl-I"
   },
   "labels_anchors": false,
   "latex_user_defs": false,
   "report_style_numbering": false,
   "user_envs_cfg": false
  },
  "nteract": {
   "version": "0.12.3"
  },
  "vscode": {
   "interpreter": {
    "hash": "2c1b7d2a254a833f77e60ac78da1ed54ff65cb1701c74f3555560f6bc7e55a47"
   }
  }
 },
 "nbformat": 4,
 "nbformat_minor": 4
}
